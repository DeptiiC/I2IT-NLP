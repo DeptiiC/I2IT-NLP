{
  "cells": [
    {
      "cell_type": "markdown",
      "metadata": {
        "id": "ZbX1ZcO7EB8L"
      },
      "source": [
        "# spaCy Basics\n",
        "\n",
        "**spaCy** (https://spacy.io/) is an open-source Python library that parses and \"understands\" large volumes of text. Separate models are available that cater to specific languages (English, French, German, etc.).\n",
        "\n",
        "In this section we'll install and setup spaCy to work with Python, and then introduce some concepts related to Natural Language Processing."
      ]
    },
    {
      "cell_type": "markdown",
      "metadata": {
        "id": "fHKhoTIqEB8M"
      },
      "source": [
        "# Installation and Setup\n",
        "\n",
        "Installation is a two-step process. First, install spaCy using either conda or pip. Next, download the specific model you want, based on language.<br> For more info visit https://spacy.io/usage/\n",
        "\n",
        "### 1. From the command line or terminal:\n",
        "> `conda install -c conda-forge spacy`\n",
        "> <br>*or*<br>\n",
        "> `pip install -U spacy`\n",
        "\n",
        "> ### Alternatively you can create a virtual environment:\n",
        "> `conda create -n spacyenv python=3 spacy=2`\n",
        "\n",
        "### 2. Next, also from the command line (you must run this as admin or use sudo):\n",
        "\n",
        "> `python -m spacy download en`\n",
        "\n",
        "> ### If successful, you should see a message like:\n",
        "\n",
        "> **`Linking successful`**<br>\n",
        "> `    C:\\Anaconda3\\envs\\spacyenv\\lib\\site-packages\\en_core_web_sm -->`<br>\n",
        "> `    C:\\Anaconda3\\envs\\spacyenv\\lib\\site-packages\\spacy\\data\\en`<br>\n",
        "> ` `<br>\n",
        "> `    You can now load the model via spacy.load('en')`\n"
      ]
    },
    {
      "cell_type": "markdown",
      "source": [
        "Installing spaCy in Colab"
      ],
      "metadata": {
        "id": "Yz22V__Eyj9H"
      }
    },
    {
      "cell_type": "code",
      "source": [
        "pip install spacy"
      ],
      "metadata": {
        "colab": {
          "base_uri": "https://localhost:8080/"
        },
        "id": "t-8x_BLAypq6",
        "outputId": "fc67fbc4-bfd7-4133-dc9e-6cc79f956c7b"
      },
      "execution_count": null,
      "outputs": [
        {
          "output_type": "stream",
          "name": "stdout",
          "text": [
            "Looking in indexes: https://pypi.org/simple, https://us-python.pkg.dev/colab-wheels/public/simple/\n",
            "Requirement already satisfied: spacy in /usr/local/lib/python3.8/dist-packages (3.4.4)\n",
            "Requirement already satisfied: spacy-legacy<3.1.0,>=3.0.10 in /usr/local/lib/python3.8/dist-packages (from spacy) (3.0.11)\n",
            "Requirement already satisfied: jinja2 in /usr/local/lib/python3.8/dist-packages (from spacy) (2.11.3)\n",
            "Requirement already satisfied: murmurhash<1.1.0,>=0.28.0 in /usr/local/lib/python3.8/dist-packages (from spacy) (1.0.9)\n",
            "Requirement already satisfied: setuptools in /usr/local/lib/python3.8/dist-packages (from spacy) (57.4.0)\n",
            "Requirement already satisfied: cymem<2.1.0,>=2.0.2 in /usr/local/lib/python3.8/dist-packages (from spacy) (2.0.7)\n",
            "Requirement already satisfied: numpy>=1.15.0 in /usr/local/lib/python3.8/dist-packages (from spacy) (1.21.6)\n",
            "Requirement already satisfied: langcodes<4.0.0,>=3.2.0 in /usr/local/lib/python3.8/dist-packages (from spacy) (3.3.0)\n",
            "Requirement already satisfied: pydantic!=1.8,!=1.8.1,<1.11.0,>=1.7.4 in /usr/local/lib/python3.8/dist-packages (from spacy) (1.10.4)\n",
            "Requirement already satisfied: wasabi<1.1.0,>=0.9.1 in /usr/local/lib/python3.8/dist-packages (from spacy) (0.10.1)\n",
            "Requirement already satisfied: requests<3.0.0,>=2.13.0 in /usr/local/lib/python3.8/dist-packages (from spacy) (2.25.1)\n",
            "Requirement already satisfied: preshed<3.1.0,>=3.0.2 in /usr/local/lib/python3.8/dist-packages (from spacy) (3.0.8)\n",
            "Requirement already satisfied: thinc<8.2.0,>=8.1.0 in /usr/local/lib/python3.8/dist-packages (from spacy) (8.1.6)\n",
            "Requirement already satisfied: catalogue<2.1.0,>=2.0.6 in /usr/local/lib/python3.8/dist-packages (from spacy) (2.0.8)\n",
            "Requirement already satisfied: tqdm<5.0.0,>=4.38.0 in /usr/local/lib/python3.8/dist-packages (from spacy) (4.64.1)\n",
            "Requirement already satisfied: spacy-loggers<2.0.0,>=1.0.0 in /usr/local/lib/python3.8/dist-packages (from spacy) (1.0.4)\n",
            "Requirement already satisfied: packaging>=20.0 in /usr/local/lib/python3.8/dist-packages (from spacy) (21.3)\n",
            "Requirement already satisfied: typer<0.8.0,>=0.3.0 in /usr/local/lib/python3.8/dist-packages (from spacy) (0.7.0)\n",
            "Requirement already satisfied: srsly<3.0.0,>=2.4.3 in /usr/local/lib/python3.8/dist-packages (from spacy) (2.4.5)\n",
            "Requirement already satisfied: pathy>=0.3.5 in /usr/local/lib/python3.8/dist-packages (from spacy) (0.10.1)\n",
            "Requirement already satisfied: smart-open<7.0.0,>=5.2.1 in /usr/local/lib/python3.8/dist-packages (from spacy) (6.3.0)\n",
            "Requirement already satisfied: pyparsing!=3.0.5,>=2.0.2 in /usr/local/lib/python3.8/dist-packages (from packaging>=20.0->spacy) (3.0.9)\n",
            "Requirement already satisfied: typing-extensions>=4.2.0 in /usr/local/lib/python3.8/dist-packages (from pydantic!=1.8,!=1.8.1,<1.11.0,>=1.7.4->spacy) (4.4.0)\n",
            "Requirement already satisfied: chardet<5,>=3.0.2 in /usr/local/lib/python3.8/dist-packages (from requests<3.0.0,>=2.13.0->spacy) (4.0.0)\n",
            "Requirement already satisfied: urllib3<1.27,>=1.21.1 in /usr/local/lib/python3.8/dist-packages (from requests<3.0.0,>=2.13.0->spacy) (1.24.3)\n",
            "Requirement already satisfied: idna<3,>=2.5 in /usr/local/lib/python3.8/dist-packages (from requests<3.0.0,>=2.13.0->spacy) (2.10)\n",
            "Requirement already satisfied: certifi>=2017.4.17 in /usr/local/lib/python3.8/dist-packages (from requests<3.0.0,>=2.13.0->spacy) (2022.12.7)\n",
            "Requirement already satisfied: blis<0.8.0,>=0.7.8 in /usr/local/lib/python3.8/dist-packages (from thinc<8.2.0,>=8.1.0->spacy) (0.7.9)\n",
            "Requirement already satisfied: confection<1.0.0,>=0.0.1 in /usr/local/lib/python3.8/dist-packages (from thinc<8.2.0,>=8.1.0->spacy) (0.0.3)\n",
            "Requirement already satisfied: click<9.0.0,>=7.1.1 in /usr/local/lib/python3.8/dist-packages (from typer<0.8.0,>=0.3.0->spacy) (7.1.2)\n",
            "Requirement already satisfied: MarkupSafe>=0.23 in /usr/local/lib/python3.8/dist-packages (from jinja2->spacy) (2.0.1)\n"
          ]
        }
      ]
    },
    {
      "cell_type": "markdown",
      "metadata": {
        "id": "dA4hiRbSEB8N"
      },
      "source": [
        "# Working with spaCy in Python\n",
        "\n",
        "This is a typical set of instructions for importing and working with spaCy."
      ]
    },
    {
      "cell_type": "code",
      "execution_count": null,
      "metadata": {
        "id": "SVKYmOAaEB8N",
        "outputId": "de4f762c-305c-4fcb-d225-d159f50ad0c1",
        "colab": {
          "base_uri": "https://localhost:8080/"
        }
      },
      "outputs": [
        {
          "output_type": "stream",
          "name": "stderr",
          "text": [
            "/usr/local/lib/python3.8/dist-packages/torch/cuda/__init__.py:497: UserWarning: Can't initialize NVML\n",
            "  warnings.warn(\"Can't initialize NVML\")\n"
          ]
        },
        {
          "output_type": "stream",
          "name": "stdout",
          "text": [
            "Tesla PROPN nsubj\n",
            "is AUX aux\n",
            "looking VERB ROOT\n",
            "at ADP prep\n",
            "buying VERB pcomp\n",
            "U.S. PROPN compound\n",
            "startup NOUN dobj\n",
            "for ADP prep\n",
            "$ SYM quantmod\n",
            "6 NUM compound\n",
            "million NUM pobj\n"
          ]
        }
      ],
      "source": [
        "# Import spaCy and load the language library\n",
        "import spacy\n",
        "nlp = spacy.load('en_core_web_sm')\n",
        "\n",
        "# Create a Doc object\n",
        "doc = nlp(u'Tesla is looking at buying U.S. startup for $6 million')\n",
        "\n",
        "# Print each token separately\n",
        "for token in doc:\n",
        "    print(token.text, token.pos_, token.dep_)"
      ]
    },
    {
      "cell_type": "markdown",
      "metadata": {
        "id": "dcCquPA8EB8P"
      },
      "source": [
        "This doesn't look very user-friendly, but right away we see some interesting things happen:\n",
        "1. Tesla is recognized to be a Proper Noun, not just a word at the start of a sentence\n",
        "2. U.S. is kept together as one entity (we call this a 'token')\n",
        "\n",
        "As we dive deeper into spaCy we'll see what each of these abbreviations mean and how they're derived. We'll also see how spaCy can interpret the last three tokens combined `$6 million` as referring to ***money***."
      ]
    },
    {
      "cell_type": "markdown",
      "metadata": {
        "id": "lsWuT02mEB8Q"
      },
      "source": [
        "\n",
        "# spaCy Objects\n",
        "\n",
        "After importing the spacy module in the cell above we loaded a **model** and named it `nlp`.<br>Next we created a **Doc** object by applying the model to our text, and named it `doc`.<br>spaCy also builds a companion **Vocab** object that we'll cover in later sections.<br>The **Doc** object that holds the processed text is our focus here."
      ]
    },
    {
      "cell_type": "markdown",
      "metadata": {
        "id": "J23eb645EB8Q"
      },
      "source": [
        "\n",
        "# Pipeline\n",
        "When we run `nlp`, our text enters a *processing pipeline* that first breaks down the text and then performs a series of operations to tag, parse and describe the data.   Image source: https://spacy.io/usage/spacy-101#pipelines"
      ]
    },
    {
      "cell_type": "markdown",
      "source": [
        "![pipeline.svg](data:image/svg+xml;base64,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)"
      ],
      "metadata": {
        "id": "cVp81ziLzkid"
      }
    },
    {
      "cell_type": "markdown",
      "metadata": {
        "id": "J_bKasnIEB8R"
      },
      "source": [
        "We can check to see what components currently live in the pipeline. In later sections we'll learn how to disable components and add new ones as needed."
      ]
    },
    {
      "cell_type": "code",
      "execution_count": null,
      "metadata": {
        "id": "st-b6BqNEB8R",
        "outputId": "9c71daaa-1741-4ec5-ecc3-b7142e241858"
      },
      "outputs": [
        {
          "data": {
            "text/plain": [
              "[('tagger', <spacy.pipeline.Tagger at 0x237cb1e8f98>),\n",
              " ('parser', <spacy.pipeline.DependencyParser at 0x237cb2852b0>),\n",
              " ('ner', <spacy.pipeline.EntityRecognizer at 0x237cb285360>)]"
            ]
          },
          "execution_count": 2,
          "metadata": {},
          "output_type": "execute_result"
        }
      ],
      "source": [
        "nlp.pipeline"
      ]
    },
    {
      "cell_type": "code",
      "execution_count": null,
      "metadata": {
        "id": "xgwPcRJ6EB8S",
        "outputId": "e13dc3f9-76f9-4863-9a59-19cbdc855277"
      },
      "outputs": [
        {
          "data": {
            "text/plain": [
              "['tagger', 'parser', 'ner']"
            ]
          },
          "execution_count": 3,
          "metadata": {},
          "output_type": "execute_result"
        }
      ],
      "source": [
        "nlp.pipe_names"
      ]
    },
    {
      "cell_type": "markdown",
      "metadata": {
        "id": "2pDoA-x0EB8S"
      },
      "source": [
        "___\n",
        "## Tokenization\n",
        "The first step in processing text is to split up all the component parts (words & punctuation) into \"tokens\". These tokens are annotated inside the Doc object to contain descriptive information. We'll go into much more detail on tokenization in an upcoming lecture. For now, let's look at another example:"
      ]
    },
    {
      "cell_type": "code",
      "execution_count": null,
      "metadata": {
        "id": "QdB-vzS0EB8S",
        "outputId": "a9184d54-ecb4-4e17-9c41-83a5de913d15"
      },
      "outputs": [
        {
          "name": "stdout",
          "output_type": "stream",
          "text": [
            "Tesla PROPN nsubj\n",
            "is VERB aux\n",
            "n't ADV neg\n",
            "   SPACE \n",
            "looking VERB ROOT\n",
            "into ADP prep\n",
            "startups NOUN pobj\n",
            "anymore ADV advmod\n",
            ". PUNCT punct\n"
          ]
        }
      ],
      "source": [
        "doc2 = nlp(u\"Tesla isn't   looking into startups anymore.\")\n",
        "\n",
        "for token in doc2:\n",
        "    print(token.text, token.pos_, token.dep_)"
      ]
    },
    {
      "cell_type": "markdown",
      "metadata": {
        "id": "1oyGtSReEB8T"
      },
      "source": [
        "Notice how `isn't` has been split into two tokens. spaCy recognizes both the root verb `is` and the negation attached to it. Notice also that both the extended whitespace and the period at the end of the sentence are assigned their own tokens.\n",
        "\n",
        "It's important to note that even though `doc2` contains processed information about each token, it also retains the original text:"
      ]
    },
    {
      "cell_type": "code",
      "execution_count": null,
      "metadata": {
        "id": "YrDDwMGSEB8T",
        "outputId": "07110a30-358c-44f8-f3f3-54b838cd500c"
      },
      "outputs": [
        {
          "data": {
            "text/plain": [
              "Tesla isn't   looking into startups anymore."
            ]
          },
          "execution_count": 5,
          "metadata": {},
          "output_type": "execute_result"
        }
      ],
      "source": [
        "doc2"
      ]
    },
    {
      "cell_type": "code",
      "execution_count": null,
      "metadata": {
        "id": "93_xtoiwEB8T",
        "outputId": "8020adb3-f54d-4251-8cc5-b290dfe4ad4b"
      },
      "outputs": [
        {
          "data": {
            "text/plain": [
              "Tesla"
            ]
          },
          "execution_count": 6,
          "metadata": {},
          "output_type": "execute_result"
        }
      ],
      "source": [
        "doc2[0]"
      ]
    },
    {
      "cell_type": "code",
      "execution_count": null,
      "metadata": {
        "id": "Dbtw1kroEB8U",
        "outputId": "87f4e3ae-b98e-474e-87d6-0512d84aad25"
      },
      "outputs": [
        {
          "data": {
            "text/plain": [
              "spacy.tokens.doc.Doc"
            ]
          },
          "execution_count": 7,
          "metadata": {},
          "output_type": "execute_result"
        }
      ],
      "source": [
        "type(doc2)"
      ]
    },
    {
      "cell_type": "markdown",
      "metadata": {
        "id": "vQsdpcmPEB8U"
      },
      "source": [
        "___\n",
        "## Part-of-Speech Tagging (POS)\n",
        "The next step after splitting the text up into tokens is to assign parts of speech. In the above example, `Tesla` was recognized to be a ***proper noun***. Here some statistical modeling is required. For example, words that follow \"the\" are typically nouns."
      ]
    },
    {
      "cell_type": "code",
      "execution_count": null,
      "metadata": {
        "id": "_EbLc2FNEB8V",
        "outputId": "9cd8d5bc-43bf-44c1-8842-ec9b288bd570"
      },
      "outputs": [
        {
          "data": {
            "text/plain": [
              "'PROPN'"
            ]
          },
          "execution_count": 8,
          "metadata": {},
          "output_type": "execute_result"
        }
      ],
      "source": [
        "doc2[0].pos_"
      ]
    },
    {
      "cell_type": "markdown",
      "metadata": {
        "id": "onP4iKvEEB8V"
      },
      "source": [
        "___\n",
        "## Dependencies\n",
        "We also looked at the syntactic dependencies assigned to each token. `Tesla` is identified as an `nsubj` or the ***nominal subject*** of the sentence.\n",
        "<br>A good explanation of typed dependencies can be found [here](https://nlp.stanford.edu/software/dependencies_manual.pdf)"
      ]
    },
    {
      "cell_type": "code",
      "execution_count": null,
      "metadata": {
        "id": "N38Eew-gEB8V",
        "outputId": "98a47e1d-67f2-461a-ed18-e6a5c9eabc08"
      },
      "outputs": [
        {
          "data": {
            "text/plain": [
              "'nsubj'"
            ]
          },
          "execution_count": 9,
          "metadata": {},
          "output_type": "execute_result"
        }
      ],
      "source": [
        "doc2[0].dep_"
      ]
    },
    {
      "cell_type": "markdown",
      "metadata": {
        "id": "2_Irf5BNEB8W"
      },
      "source": [
        "To see the full name of a tag use `spacy.explain(tag)`"
      ]
    },
    {
      "cell_type": "code",
      "execution_count": null,
      "metadata": {
        "id": "FB4NyMZ1EB8W",
        "outputId": "d6165f62-6366-433c-c3ef-1ecc105695f7"
      },
      "outputs": [
        {
          "data": {
            "text/plain": [
              "'proper noun'"
            ]
          },
          "execution_count": 10,
          "metadata": {},
          "output_type": "execute_result"
        }
      ],
      "source": [
        "spacy.explain('PROPN')"
      ]
    },
    {
      "cell_type": "code",
      "execution_count": null,
      "metadata": {
        "id": "SZtkAchAEB8W",
        "outputId": "24ebdf54-05fa-4d59-d145-59fc47f41a67"
      },
      "outputs": [
        {
          "data": {
            "text/plain": [
              "'nominal subject'"
            ]
          },
          "execution_count": 11,
          "metadata": {},
          "output_type": "execute_result"
        }
      ],
      "source": [
        "spacy.explain('nsubj')"
      ]
    },
    {
      "cell_type": "markdown",
      "metadata": {
        "id": "loR_sWH5EB8W"
      },
      "source": [
        "___\n",
        "## Additional Token Attributes"
      ]
    },
    {
      "cell_type": "markdown",
      "metadata": {
        "id": "Y5qnRiNxEB8X"
      },
      "source": [
        "|Tag|Description|doc2[0].tag|\n",
        "|:------|:------:|:------|\n",
        "|`.text`|The original word text<!-- .element: style=\"text-align:left;\" -->|`Tesla`|\n",
        "|`.lemma_`|The base form of the word|`tesla`|\n",
        "|`.pos_`|The simple part-of-speech tag|`PROPN`/`proper noun`|\n",
        "|`.tag_`|The detailed part-of-speech tag|`NNP`/`noun, proper singular`|\n",
        "|`.shape_`|The word shape – capitalization, punctuation, digits|`Xxxxx`|\n",
        "|`.is_alpha`|Is the token an alpha character?|`True`|\n",
        "|`.is_stop`|Is the token part of a stop list, i.e. the most common words of the language?|`False`|"
      ]
    },
    {
      "cell_type": "code",
      "execution_count": null,
      "metadata": {
        "id": "qLaBpPkXEB8X",
        "outputId": "82ea964c-d814-4641-a11d-734a7017debe"
      },
      "outputs": [
        {
          "name": "stdout",
          "output_type": "stream",
          "text": [
            "looking\n",
            "look\n"
          ]
        }
      ],
      "source": [
        "# Lemmas (the base form of the word):\n",
        "print(doc2[4].text)\n",
        "print(doc2[4].lemma_)"
      ]
    },
    {
      "cell_type": "code",
      "execution_count": null,
      "metadata": {
        "id": "2hgsreyuEB8X",
        "outputId": "4b1ae808-b3d4-4c24-c650-2a67d98d049a"
      },
      "outputs": [
        {
          "name": "stdout",
          "output_type": "stream",
          "text": [
            "VERB\n",
            "VBG / verb, gerund or present participle\n"
          ]
        }
      ],
      "source": [
        "# Simple Parts-of-Speech & Detailed Tags:\n",
        "print(doc2[4].pos_)\n",
        "print(doc2[4].tag_ + ' / ' + spacy.explain(doc2[4].tag_))"
      ]
    },
    {
      "cell_type": "code",
      "execution_count": null,
      "metadata": {
        "id": "8-yeNKCLEB8X",
        "outputId": "4d8bb6ad-f645-4252-aec1-863af16bfd16"
      },
      "outputs": [
        {
          "name": "stdout",
          "output_type": "stream",
          "text": [
            "Tesla: Xxxxx\n",
            "U.S. : X.X.\n"
          ]
        }
      ],
      "source": [
        "# Word Shapes:\n",
        "print(doc2[0].text+': '+doc2[0].shape_)\n",
        "print(doc[5].text+' : '+doc[5].shape_)"
      ]
    },
    {
      "cell_type": "code",
      "execution_count": null,
      "metadata": {
        "id": "-is2VeXMEB8Y",
        "outputId": "5e3d6799-b887-4034-9192-db8d79a816ef"
      },
      "outputs": [
        {
          "name": "stdout",
          "output_type": "stream",
          "text": [
            "True\n",
            "False\n"
          ]
        }
      ],
      "source": [
        "# Boolean Values:\n",
        "print(doc2[0].is_alpha)\n",
        "print(doc2[0].is_stop)"
      ]
    },
    {
      "cell_type": "markdown",
      "metadata": {
        "id": "B3LObQzeEB8Y"
      },
      "source": [
        "___\n",
        "## Spans\n",
        "Large Doc objects can be hard to work with at times. A **span** is a slice of Doc object in the form `Doc[start:stop]`."
      ]
    },
    {
      "cell_type": "code",
      "execution_count": null,
      "metadata": {
        "id": "PbAntVvDEB8Y"
      },
      "outputs": [],
      "source": [
        "doc3 = nlp(u'Although commmonly attributed to John Lennon from his song \"Beautiful Boy\", \\\n",
        "the phrase \"Life is what happens to us while we are making other plans\" was written by \\\n",
        "cartoonist Allen Saunders and published in Reader\\'s Digest in 1957, when Lennon was 17.')"
      ]
    },
    {
      "cell_type": "code",
      "execution_count": null,
      "metadata": {
        "id": "1iA85-qjEB8Y",
        "outputId": "6a0d961d-4e8b-45ea-cb5a-ea827b0485ef"
      },
      "outputs": [
        {
          "name": "stdout",
          "output_type": "stream",
          "text": [
            "\"Life is what happens to us while we are making other plans\"\n"
          ]
        }
      ],
      "source": [
        "life_quote = doc3[16:30]\n",
        "print(life_quote)"
      ]
    },
    {
      "cell_type": "code",
      "execution_count": null,
      "metadata": {
        "id": "Cfg5tbMrEB8Y",
        "outputId": "a1c507e0-aa01-4746-82f3-37d9f097a137"
      },
      "outputs": [
        {
          "data": {
            "text/plain": [
              "spacy.tokens.span.Span"
            ]
          },
          "execution_count": 18,
          "metadata": {},
          "output_type": "execute_result"
        }
      ],
      "source": [
        "type(life_quote)"
      ]
    },
    {
      "cell_type": "markdown",
      "metadata": {
        "id": "OWRmF3dZEB8Z"
      },
      "source": [
        "## Sentences\n",
        "Certain tokens inside a Doc object may also receive a \"start of sentence\" tag. While this doesn't immediately build a list of sentences, these tags enable the generation of sentence segments through `Doc.sents`. Later we'll write our own segmentation rules."
      ]
    },
    {
      "cell_type": "code",
      "execution_count": null,
      "metadata": {
        "id": "AyN2OkqMEB8Z"
      },
      "outputs": [],
      "source": [
        "doc4 = nlp(u'This is the first sentence. This is another sentence. This is the last sentence.')"
      ]
    },
    {
      "cell_type": "code",
      "execution_count": null,
      "metadata": {
        "id": "ouQhYZq3EB8Z",
        "outputId": "6f48d349-bd68-4609-89c5-8942c65c4eb0"
      },
      "outputs": [
        {
          "name": "stdout",
          "output_type": "stream",
          "text": [
            "This is the first sentence.\n",
            "This is another sentence.\n",
            "This is the last sentence.\n"
          ]
        }
      ],
      "source": [
        "for sent in doc4.sents:\n",
        "    print(sent)"
      ]
    },
    {
      "cell_type": "code",
      "execution_count": null,
      "metadata": {
        "id": "tzP7MnIAEB8Z",
        "outputId": "4e49f68e-3916-4085-ab12-d2ae6164ffe4"
      },
      "outputs": [
        {
          "data": {
            "text/plain": [
              "True"
            ]
          },
          "execution_count": 21,
          "metadata": {},
          "output_type": "execute_result"
        }
      ],
      "source": [
        "doc4[6].is_sent_start"
      ]
    }
  ],
  "metadata": {
    "kernelspec": {
      "display_name": "Python 3",
      "language": "python",
      "name": "python3"
    },
    "language_info": {
      "codemirror_mode": {
        "name": "ipython",
        "version": 3
      },
      "file_extension": ".py",
      "mimetype": "text/x-python",
      "name": "python",
      "nbconvert_exporter": "python",
      "pygments_lexer": "ipython3",
      "version": "3.7.6"
    },
    "colab": {
      "provenance": []
    }
  },
  "nbformat": 4,
  "nbformat_minor": 0
}